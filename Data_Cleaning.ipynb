{
 "cells": [
  {
   "cell_type": "code",
   "execution_count": 23,
   "id": "1e843607",
   "metadata": {},
   "outputs": [],
   "source": [
    "import pandas as pd\n",
    "import numpy as np\n",
    "from scipy import stats\n",
    "\n",
    "def clean_data(input_filename, output_filename):\n",
    "    df = pd.read_csv(input_filename)\n",
    "\n",
    "    df.dropna()\n",
    "\n",
    "    z_scores = np.abs(stats.zscore(df))\n",
    "    df = df[(z_scores < 3).all(axis=1)]\n",
    "\n",
    "    df = df.apply(lambda x: x.fillna('0') if pd.api.types.is_numeric_dtype(x) else x)\n",
    "\n",
    "    min_len = min(len(df['Before']),len(df['After']))\n",
    "    df = df.iloc[:min_len]\n",
    "\n",
    "    # Save the cleaned dataframe to a new CSV file\n",
    "    df.to_csv(output_filename, index=False)\n",
    "    \n",
    "\n",
    "clean_data('Intention/DIT.csv','Intention/Cleaned Data/DIT_Cleaned.csv')    "
   ]
  },
  {
   "cell_type": "code",
   "execution_count": 3,
   "id": "9d3c2162",
   "metadata": {},
   "outputs": [],
   "source": [
    "\n",
    "filenames = [('Intention/CBO.csv','Intention/Cleaned Data/CBO_Cleaned.csv'),\n",
    "             ('Intention/DIT.csv','Intention/Cleaned Data/DIT_Cleaned.csv'),\n",
    "             ('Intention/LCOM.csv','Intention/Cleaned Data/LCOM_Cleaned.csv'),\n",
    "             ('Intention/LOC.csv','Intention/Cleaned Data/LOC_Cleaned.csv'),\n",
    "             ('Intention/NOC.csv','Intention/Cleaned Data/NOC_Cleaned.csv'),\n",
    "             ('Intention/RFC.csv','Intention/Cleaned Data/RFC_Cleaned.csv'),\n",
    "             ('Intention/WMC.csv','Intention/Cleaned Data/WMC_Cleaned.csv'),\n",
    "             \n",
    "             ('Operation/CBO.csv','Operation/Cleaned Data/CBO_Cleaned.csv'),\n",
    "             ('Operation/DIT.csv','Operation/Cleaned Data/DIT_Cleaned.csv'),\n",
    "             ('Operation/LCOM.csv','Operation/Cleaned Data/LCOM_Cleaned.csv'),\n",
    "             ('Operation/LOC.csv','Operation/Cleaned Data/LOC_Cleaned.csv'),\n",
    "             ('Operation/NOC.csv','Operation/Cleaned Data/NOC_Cleaned.csv'),\n",
    "             ('Operation/RFC.csv','Operation/Cleaned Data/RFC_Cleaned.csv'),\n",
    "             ('Operation/WMC.csv','Operation/Cleaned Data/WMC_Cleaned.csv')            \n",
    "            ]\n",
    "\n",
    "\n",
    "for input_filename, output_filename in filenames:\n",
    "    clean_data(input_filename, output_filename)"
   ]
  },
  {
   "cell_type": "code",
   "execution_count": 20,
   "id": "f9b6ec1d",
   "metadata": {},
   "outputs": [],
   "source": [
    "import os\n",
    "import matplotlib.pyplot as plt\n",
    "def boxplot(output_filename):\n",
    "  \n",
    "    df_plot = pd.read_csv(output_filename)\n",
    "  \n",
    "    fig, ax = plt.subplots()\n",
    "    ax.boxplot([df_plot['Before'],df_plot['After']])\n",
    "    ax.set_xticklabels(['Before','After'])\n",
    "    ax.set_ylabel('Data Values')\n",
    "    ax.set_xlabel(output_filename[:-4])\n",
    "    ax.set_title('Box Plot')\n",
    "    plt.show()\n"
   ]
  },
  {
   "cell_type": "code",
   "execution_count": 22,
   "id": "4d0d388b",
   "metadata": {},
   "outputs": [
    {
     "data": {
      "image/png": "[encoded data removed]",
      "text/plain": [
       "<Figure size 640x480 with 1 Axes>"
      ]
     },
     "metadata": {},
     "output_type": "display_data"
    }
   ],
   "source": [
    "#Box Plot of Intention\n",
    "\n",
    "# #CBO\n",
    "# boxplot('Intention/Cleaned Data/CBO_Cleaned.csv')\n",
    "\n",
    "# #DIT\n",
    "boxplot('Intention/Cleaned Data/DIT_Cleaned.csv')\n",
    "\n",
    "# #LCOM\n",
    "# boxplot('Intention/Cleaned Data/LCOM_Cleaned.csv')\n",
    "\n",
    "# #LOC\n",
    "# boxplot('Intention/Cleaned Data/LOC_Cleaned.csv')\n",
    "\n",
    "# #NOC\n",
    "# boxplot('Intention/Cleaned Data/NOC_Cleaned.csv')\n",
    "\n",
    "# #RFC\n",
    "# boxplot('Intention/Cleaned Data/RFC_Cleaned.csv')\n",
    "\n",
    "# #WMC\n",
    "# boxplot('Intention/Cleaned Data/WMC_Cleaned.csv')\n"
   ]
  },
  {
   "cell_type": "code",
   "execution_count": null,
   "id": "dbd316b0",
   "metadata": {},
   "outputs": [],
   "source": []
  }
 ],
 "metadata": {
  "kernelspec": {
   "display_name": "Python 3 (ipykernel)",
   "language": "python",
   "name": "python3"
  },
  "language_info": {
   "codemirror_mode": {
    "name": "ipython",
    "version": 3
   },
   "file_extension": ".py",
   "mimetype": "text/x-python",
   "name": "python",
   "nbconvert_exporter": "python",
   "pygments_lexer": "ipython3",
   "version": "3.9.13"
  }
 },
 "nbformat": 4,
 "nbformat_minor": 5
}
