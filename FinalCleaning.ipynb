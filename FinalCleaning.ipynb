{
 "cells": [
  {
   "cell_type": "code",
   "execution_count": 6,
   "metadata": {},
   "outputs": [],
   "source": [
    "import pandas as pd\n",
    "import numpy as np\n",
    "from scipy import stats"
   ]
  },
  {
   "cell_type": "code",
   "execution_count": 7,
   "metadata": {},
   "outputs": [],
   "source": [
    "# Define function to remove outliers using z-score\n",
    "def remove_outliers(df):\n",
    "    z = np.abs(stats.zscore(df))\n",
    "    df = df[(z < 3).all(axis=1)]\n",
    "    return df"
   ]
  },
  {
   "cell_type": "code",
   "execution_count": 8,
   "metadata": {},
   "outputs": [],
   "source": [
    "# Define function to clean data\n",
    "def clean_data(df):\n",
    "    # Remove null values\n",
    "    df = df.dropna()\n",
    "\n",
    "    # Remove outliers\n",
    "    df = remove_outliers(df)\n",
    "\n",
    "    # Fill missing values with '0'\n",
    "    df = df.fillna(0)\n",
    "\n",
    "    # Ensure both columns have equal data points\n",
    "    min_len = min(len(df['Before']), len(df['After']))\n",
    "    df = df.iloc[:min_len, :]\n",
    "\n",
    "    return df\n"
   ]
  },
  {
   "cell_type": "code",
   "execution_count": 9,
   "metadata": {},
   "outputs": [],
   "source": [
    "# Loop through csv files in both folders\n",
    "for folder in ['Intention', 'Operation']:\n",
    "    for metric in ['LCOM', 'CBO', 'RFC', 'DIT', 'NOC', 'WMC', 'LOC']:\n",
    "        file_path = f\"{folder}/{metric}.csv\"\n",
    "        df = pd.read_csv(file_path)\n",
    "\n",
    "        # Clean data\n",
    "        df = clean_data(df)\n",
    "\n",
    "        # Save cleaned data to file\n",
    "        df.to_csv(f\"{folder}/{metric}_cleaned.csv\", index=False)"
   ]
  },
  {
   "cell_type": "code",
   "execution_count": null,
   "metadata": {},
   "outputs": [],
   "source": [
    "import pandas as pd\n",
    "from scipy.stats import ttest_ind, ranksums\n",
    "\n",
    "# Load data\n",
    "intention_files = ['intention/LCOM.csv', 'intention/CBO.csv', 'intention/RFC.csv', 'intention/DIT.csv', 'intention/NOC.csv', 'intention/WMC.csv', 'intention/LOC.csv']\n",
    "operation_files = ['operation/LCOM.csv', 'operation/CBO.csv', 'operation/RFC.csv', 'operation/DIT.csv', 'operation/NOC.csv', 'operation/WMC.csv', 'operation/LOC.csv']\n",
    "\n",
    "intention_dfs = [pd.read_csv(file) for file in intention_files]\n",
    "operation_dfs = [pd.read_csv(file) for file in operation_files]\n",
    "\n",
    "# Calculate difference between Before and After columns for each metric\n",
    "for i, metric in enumerate(['LCOM', 'CBO', 'RFC', 'DIT', 'NOC', 'WMC', 'LOC']):\n",
    "    intention_diff = intention_dfs[i]['After'] - intention_dfs[i]['Before']\n",
    "    operation_diff = operation_dfs[i]['After'] - operation_dfs[i]['Before']\n",
    "    \n",
    "    # Perform statistical tests\n",
    "    t, t_pval = ttest_ind(intention_diff, operation_diff)\n",
    "    u, u_pval = ranksums(intention_diff, operation_diff)\n",
    "    \n",
    "    # Report results\n",
    "    print(f\"Results for {metric}:\")\n",
    "    print(f\"Mean improvement for intention group: {intention_diff.mean()}\")\n",
    "    print(f\"Mean improvement for operation group: {operation_diff.mean()}\")\n",
    "    print(f\"t-test p-value: {t_pval}\")\n",
    "    print(f\"Wilcoxon rank-sum p-value: {u_pval}\")\n"
   ]
  }
 ],
 "metadata": {
  "kernelspec": {
   "display_name": "Python 3",
   "language": "python",
   "name": "python3"
  },
  "language_info": {
   "codemirror_mode": {
    "name": "ipython",
    "version": 3
   },
   "file_extension": ".py",
   "mimetype": "text/x-python",
   "name": "python",
   "nbconvert_exporter": "python",
   "pygments_lexer": "ipython3",
   "version": "3.10.8"
  },
  "orig_nbformat": 4,
  "vscode": {
   "interpreter": {
    "hash": "aee8b7b246df8f9039afb4144a1f6fd8d2ca17a180786b69acc140d282b71a49"
   }
  }
 },
 "nbformat": 4,
 "nbformat_minor": 2
}
