{
 "cells": [
  {
   "cell_type": "code",
   "execution_count": 9,
   "metadata": {},
   "outputs": [],
   "source": [
    "import pandas as pd\n",
    "import numpy as np\n",
    "from scipy import stats"
   ]
  },
  {
   "cell_type": "code",
   "execution_count": 10,
   "metadata": {},
   "outputs": [],
   "source": [
    "# Define function to remove outliers using z-score\n",
    "def remove_outliers(df):\n",
    "    z = np.abs(stats.zscore(df))\n",
    "    df = df[(z < 3).all(axis=1)]\n",
    "    return df"
   ]
  },
  {
   "cell_type": "code",
   "execution_count": 11,
   "metadata": {},
   "outputs": [],
   "source": [
    "# Define function to clean data\n",
    "def clean_data(df):\n",
    "    # Remove null values\n",
    "    df = df.dropna()\n",
    "\n",
    "    # Remove outliers\n",
    "    df = remove_outliers(df)\n",
    "\n",
    "    # Fill missing values with '0'\n",
    "    df = df.fillna(0)\n",
    "\n",
    "    # Ensure both columns have equal data points\n",
    "    min_len = min(len(df['Before']), len(df['After']))\n",
    "    df = df.iloc[:min_len, :]\n",
    "\n",
    "    return df\n"
   ]
  },
  {
   "cell_type": "code",
   "execution_count": 12,
   "metadata": {},
   "outputs": [],
   "source": [
    "# Loop through csv files in both folders\n",
    "for folder in ['Intention', 'Operation']:\n",
    "    for metric in ['LCOM', 'CBO', 'RFC', 'DIT', 'NOC', 'WMC', 'LOC']:\n",
    "        file_path = f\"{folder}/{metric}.csv\"\n",
    "        df = pd.read_csv(file_path)\n",
    "\n",
    "        # Clean data\n",
    "        df = clean_data(df)\n",
    "\n",
    "        # Save cleaned data to file\n",
    "        df.to_csv(f\"{folder}/{metric}_cleaned.csv\", index=False)"
   ]
  },
  {
   "cell_type": "code",
   "execution_count": 20,
   "metadata": {},
   "outputs": [
    {
     "name": "stdout",
     "output_type": "stream",
     "text": [
      "Intention\n",
      "  Metric  Mean Before  Mean After Wilcoxon P-value\n",
      "0    LOC    71.351964   70.664528       0.48662722\n",
      "1    CBO     9.988894    9.968665       0.94661051\n",
      "2    NOC     0.056341    0.056341       0.99340516\n",
      "3    DIT     1.489047    1.493685       0.69329284\n",
      "4    RFC    22.229282   22.275316       0.64330342\n",
      "5   LCOM    24.811997   24.565544       0.51891176\n",
      "6    WMC    12.045101   11.860135       0.30012659\n",
      "\n",
      "Operation\n",
      "  Metric  Mean Before  Mean After Wilcoxon P-value\n",
      "0    LOC    79.977154   78.257514       0.40691346\n",
      "1    CBO     9.589153    9.392359       0.05824966\n",
      "2    NOC     0.070028    0.063655       0.97814829\n",
      "3    DIT     1.666104    1.658442       0.27354621\n",
      "4    RFC     9.746828    9.645687       0.89071248\n",
      "5   LCOM    25.414458   25.129388       0.59687959\n",
      "6    WMC    15.500495   14.907143       0.35380752\n"
     ]
    }
   ],
   "source": [
    "#Mean Before , After and P-Value Calcualtion\n",
    "\n",
    "import pandas as pd\n",
    "from scipy.stats import ttest_rel\n",
    "from scipy.stats import ranksums\n",
    "\n",
    "# List of metric names\n",
    "metrics = ['LOC', 'CBO', 'NOC', 'DIT', 'RFC', 'LCOM', 'WMC']\n",
    "\n",
    "# Empty lists to store means and p-values for each metric\n",
    "means_before = []\n",
    "means_after = []\n",
    "p_values = []\n",
    "\n",
    "\n",
    "\n",
    "means_before_op = []\n",
    "means_after_op = []\n",
    "p_values_op = []\n",
    "\n",
    "\n",
    "# Loop over each metric\n",
    "for metric in metrics:\n",
    "    # Load CSV file for current metric\n",
    "    df = pd.read_csv(f'/Users/pranay/Stevens/Spring 23/SSW-567-A Software Testing/Assignments/Group/Repository/TestingProject/Intention/{metric}_cleaned.csv')\n",
    "    df_op = pd.read_csv(f'/Users/pranay/Stevens/Spring 23/SSW-567-A Software Testing/Assignments/Group/Repository/TestingProject/Operation/{metric}_cleaned.csv')\n",
    "\n",
    "    # Calculate mean for \"before\" and \"after\" columns\n",
    "    mean_before = df['Before'].mean()\n",
    "    mean_after = df['After'].mean()\n",
    "    \n",
    "    mean_before_op = df_op['Before'].mean()\n",
    "    mean_after_op = df_op['After'].mean()\n",
    "    \n",
    "    \n",
    "    # Calculate p-value using a two-sided t-test\n",
    "    _, p_value = ranksums(df['Before'], df['After'])\n",
    "    _, p_value_op = ranksums(df_op['Before'], df_op['After'])\n",
    "\n",
    "\n",
    "    \n",
    "    # Append means and p-value to their respective lists\n",
    "    means_before.append(mean_before)\n",
    "    means_after.append(mean_after)\n",
    "    p_values.append(p_value)\n",
    "\n",
    "\n",
    "    means_before_op.append(mean_before_op)\n",
    "    means_after_op.append(mean_after_op)\n",
    "    p_values_op.append(p_value_op)\n",
    "\n",
    "    \n",
    "\n",
    "# Create a new dataframe with the results\n",
    "results_df = pd.DataFrame({'Metric': metrics, 'Mean Before': means_before, 'Mean After': means_after, 'Wilcoxon P-value': p_values})\n",
    "\n",
    "results_df_op = pd.DataFrame({'Metric': metrics, 'Mean Before': means_before_op, 'Mean After': means_after_op, 'Wilcoxon P-value': p_values_op})\n",
    "\n",
    "# Format p-values as floating-point numbers with 4 decimal places\n",
    "results_df['Wilcoxon P-value'] = results_df['Wilcoxon P-value'].apply(lambda x: f'{x:.8f}')\n",
    "results_df_op['Wilcoxon P-value'] = results_df_op['Wilcoxon P-value'].apply(lambda x: f'{x:.8f}')\n",
    "\n",
    "\n",
    "# Print the results dataframe\n",
    "print(\"Intention\")\n",
    "print(results_df)\n",
    "print(\"\\nOperation\")\n",
    "print(results_df_op)\n"
   ]
  },
  {
   "cell_type": "markdown",
   "metadata": {},
   "source": []
  },
  {
   "cell_type": "code",
   "execution_count": 14,
   "metadata": {},
   "outputs": [
    {
     "name": "stderr",
     "output_type": "stream",
     "text": [
      "No artists with labels found to put in legend.  Note that artists whose label start with an underscore are ignored when legend() is called with no argument.\n"
     ]
    },
    {
     "data": {
      "image/png": "[encoded data removed]",
      "text/plain": [
       "<Figure size 640x480 with 1 Axes>"
      ]
     },
     "metadata": {},
     "output_type": "display_data"
    }
   ],
   "source": [
    "\n",
    "import matplotlib.pyplot as plt\n",
    "import seaborn as sns\n",
    "def create_boxplot(datafile):\n",
    "    # Read the CSV file into a pandas DataFrame\n",
    "    df = pd.read_csv(datafile)\n",
    "\n",
    "    # Select the two columns of data to use for the box plot\n",
    "    data1 = df['Before']\n",
    "    data2 = df['After']\n",
    "\n",
    "    # Create a list of the two columns of data\n",
    "    data = [data1, data2]\n",
    "\n",
    "    # Create the box plot using matplotlib\n",
    "    sns.kdeplot(data)\n",
    "\n",
    "    # Show the plot\n",
    "    plt.legend(title='Legend Title')\n",
    "    plt.title('Density Plot Title')\n",
    "    plt.xlabel('X-axis Label')\n",
    "    plt.ylabel('Y-axis Label')\n",
    "\n",
    "    plt.show()\n",
    "\n",
    "create_boxplot('/Users/pranay/Stevens/Spring 23/SSW-567-A Software Testing/Assignments/Group/Repository/TestingProject/Intention/DIT_cleaned.csv')"
   ]
  },
  {
   "cell_type": "code",
   "execution_count": 18,
   "metadata": {},
   "outputs": [
    {
     "name": "stdout",
     "output_type": "stream",
     "text": [
      "Results for LCOM:\n",
      "Wilcoxon rank-sum p-value: 0.925848795504806\n",
      "\n",
      "Results for CBO:\n",
      "Wilcoxon rank-sum p-value: 0.28100040394795556\n",
      "\n",
      "Results for RFC:\n",
      "Wilcoxon rank-sum p-value: 0.46060102954924054\n",
      "\n",
      "Results for DIT:\n",
      "Wilcoxon rank-sum p-value: 0.13240799012522225\n",
      "\n",
      "Results for NOC:\n",
      "Wilcoxon rank-sum p-value: 0.9318335267629203\n",
      "\n",
      "Results for WMC:\n",
      "Wilcoxon rank-sum p-value: 0.43164934645960606\n",
      "\n",
      "Results for LOC:\n",
      "Wilcoxon rank-sum p-value: 0.6859946476566565\n",
      "\n"
     ]
    }
   ],
   "source": [
    "import pandas as pd\n",
    "from scipy.stats import ttest_ind, ranksums\n",
    "\n",
    "# Load data\n",
    "intention_files = ['Intention/LCOM_cleaned.csv', 'Intention/CBO_cleaned.csv', 'Intention/RFC_cleaned.csv', 'Intention/DIT_cleaned.csv', 'Intention/NOC_cleaned.csv', 'Intention/WMC_cleaned.csv', 'Intention/LOC_cleaned.csv']\n",
    "operation_files = ['Operation/LCOM_cleaned.csv', 'Operation/CBO_cleaned.csv', 'Operation/RFC_cleaned.csv', 'Operation/DIT_cleaned.csv', 'Operation/NOC_cleaned.csv', 'Operation/WMC_cleaned.csv', 'Operation/LOC_cleaned.csv']\n",
    "\n",
    "intention_dfs = [pd.read_csv(file) for file in intention_files]\n",
    "operation_dfs = [pd.read_csv(file) for file in operation_files]\n",
    "\n",
    "# Calculate difference between Before and After columns for each metric\n",
    "for i, metric in enumerate(['LCOM', 'CBO', 'RFC', 'DIT', 'NOC', 'WMC', 'LOC']):\n",
    "    intention_diff = intention_dfs[i]['After'] - intention_dfs[i]['Before']\n",
    "    operation_diff = operation_dfs[i]['After'] - operation_dfs[i]['Before']\n",
    "    \n",
    "    # Perform statistical tests\n",
    "    t, t_pval = ttest_ind(intention_diff, operation_diff)\n",
    "    u, u_pval = ranksums(intention_diff, operation_diff)\n",
    "    \n",
    "    # Report results\n",
    "    print(f\"Results for {metric}:\")\n",
    "    print(f\"Wilcoxon rank-sum p-value: {u_pval}\\n\")\n"
   ]
  },
  {
   "cell_type": "code",
   "execution_count": null,
   "metadata": {},
   "outputs": [],
   "source": []
  }
 ],
 "metadata": {
  "kernelspec": {
   "display_name": "Python 3",
   "language": "python",
   "name": "python3"
  },
  "language_info": {
   "codemirror_mode": {
    "name": "ipython",
    "version": 3
   },
   "file_extension": ".py",
   "mimetype": "text/x-python",
   "name": "python",
   "nbconvert_exporter": "python",
   "pygments_lexer": "ipython3",
   "version": "3.10.8"
  },
  "orig_nbformat": 4,
  "vscode": {
   "interpreter": {
    "hash": "aee8b7b246df8f9039afb4144a1f6fd8d2ca17a180786b69acc140d282b71a49"
   }
  }
 },
 "nbformat": 4,
 "nbformat_minor": 2
}
