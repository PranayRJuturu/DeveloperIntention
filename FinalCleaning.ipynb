{
 "cells": [
  {
   "cell_type": "code",
   "execution_count": 6,
   "metadata": {},
   "outputs": [],
   "source": [
    "import pandas as pd\n",
    "import numpy as np\n",
    "from scipy import stats"
   ]
  },
  {
   "cell_type": "code",
   "execution_count": 7,
   "metadata": {},
   "outputs": [],
   "source": [
    "# Define function to remove outliers using z-score\n",
    "def remove_outliers(df):\n",
    "    z = np.abs(stats.zscore(df))\n",
    "    df = df[(z < 3).all(axis=1)]\n",
    "    return df"
   ]
  },
  {
   "cell_type": "code",
   "execution_count": 8,
   "metadata": {},
   "outputs": [],
   "source": [
    "# Define function to clean data\n",
    "def clean_data(df):\n",
    "    # Remove null values\n",
    "    df = df.dropna()\n",
    "\n",
    "    # Remove outliers\n",
    "    df = remove_outliers(df)\n",
    "\n",
    "    # Fill missing values with '0'\n",
    "    df = df.fillna(0)\n",
    "\n",
    "    # Ensure both columns have equal data points\n",
    "    min_len = min(len(df['Before']), len(df['After']))\n",
    "    df = df.iloc[:min_len, :]\n",
    "\n",
    "    return df\n"
   ]
  },
  {
   "cell_type": "code",
   "execution_count": 9,
   "metadata": {},
   "outputs": [],
   "source": [
    "# Loop through csv files in both folders\n",
    "for folder in ['Intention', 'Operation']:\n",
    "    for metric in ['LCOM', 'CBO', 'RFC', 'DIT', 'NOC', 'WMC', 'LOC']:\n",
    "        file_path = f\"{folder}/{metric}.csv\"\n",
    "        df = pd.read_csv(file_path)\n",
    "\n",
    "        # Clean data\n",
    "        df = clean_data(df)\n",
    "\n",
    "        # Save cleaned data to file\n",
    "        df.to_csv(f\"{folder}/{metric}_cleaned.csv\", index=False)"
   ]
  },
  {
   "cell_type": "code",
   "execution_count": null,
   "metadata": {},
   "outputs": [],
   "source": [
    "#Mean Before , After and P-Value Calcualtion\n",
    "\n",
    "import pandas as pd\n",
    "from scipy.stats import ttest_rel\n",
    "\n",
    "# List of metric names\n",
    "metrics = ['LOC', 'CBO', 'NOC', 'DIT', 'RFC', 'LCOM', 'WMC']\n",
    "\n",
    "# Empty lists to store means and p-values for each metric\n",
    "means_before = []\n",
    "means_after = []\n",
    "p_values = []\n",
    "\n",
    "means_before_op = []\n",
    "means_after_op = []\n",
    "p_values_op = []\n",
    "\n",
    "# Loop over each metric\n",
    "for metric in metrics:\n",
    "    # Load CSV file for current metric\n",
    "    df = pd.read_csv(f'/Users/pranay/Stevens/Spring 23/SSW-567-A Software Testing/Assignments/Group/Repository/TestingProject/Intention/cleaned_{metric}.csv')\n",
    "    df_op = pd.read_csv(f'/Users/pranay/Stevens/Spring 23/SSW-567-A Software Testing/Assignments/Group/Repository/TestingProject/Operation/cleaned_{metric}.csv')\n",
    "\n",
    "    # Calculate mean for \"before\" and \"after\" columns\n",
    "    mean_before = df['Before'].mean()\n",
    "    mean_after = df['After'].mean()\n",
    "    \n",
    "    mean_before_op = df_op['Before'].mean()\n",
    "    mean_after_op = df_op['After'].mean()\n",
    "    \n",
    "    \n",
    "    # Calculate p-value using a two-sided t-test\n",
    "    _, p_value = ttest_rel(df['Before'], df['After'])\n",
    "    _, p_value_op = ttest_rel(df_op['Before'], df_op['After'])\n",
    "    \n",
    "    # Append means and p-value to their respective lists\n",
    "    means_before.append(mean_before)\n",
    "    means_after.append(mean_after)\n",
    "    p_values.append(p_value)\n",
    "    \n",
    "    means_before_op.append(mean_before_op)\n",
    "    means_after_op.append(mean_after_op)\n",
    "    p_values_op.append(p_value_op)\n",
    "    \n",
    "\n",
    "# Create a new dataframe with the results\n",
    "results_df = pd.DataFrame({'Metric': metrics, 'Mean Before': means_before, 'Mean After': means_after, 'P-value': p_values})\n",
    "\n",
    "results_df_op = pd.DataFrame({'Metric': metrics, 'Mean Before': means_before_op, 'Mean After': means_after_op, 'P-value': p_values_op})\n",
    "\n",
    "# Format p-values as floating-point numbers with 4 decimal places\n",
    "results_df['P-value'] = results_df['P-value'].apply(lambda x: f'{x:.8f}')\n",
    "results_df_op['P-value'] = results_df_op['P-value'].apply(lambda x: f'{x:.8f}')\n",
    "\n",
    "# Print the results dataframe\n",
    "print(\"Intention\")\n",
    "print(results_df)\n",
    "print(\"\\nOperation\")"
   ]
  }
 ],
 "metadata": {
  "kernelspec": {
   "display_name": "Python 3",
   "language": "python",
   "name": "python3"
  },
  "language_info": {
   "codemirror_mode": {
    "name": "ipython",
    "version": 3
   },
   "file_extension": ".py",
   "mimetype": "text/x-python",
   "name": "python",
   "nbconvert_exporter": "python",
   "pygments_lexer": "ipython3",
   "version": "3.10.8"
  },
  "orig_nbformat": 4,
  "vscode": {
   "interpreter": {
    "hash": "aee8b7b246df8f9039afb4144a1f6fd8d2ca17a180786b69acc140d282b71a49"
   }
  }
 },
 "nbformat": 4,
 "nbformat_minor": 2
}
