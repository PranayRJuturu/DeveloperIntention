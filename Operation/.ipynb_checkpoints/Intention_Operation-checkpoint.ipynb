{
 "cells": [
  {
   "cell_type": "code",
   "execution_count": 9,
   "id": "1e843607",
   "metadata": {},
   "outputs": [],
   "source": [
    "import pandas as pd\n",
    "import numpy as np\n",
    "from scipy import stats\n",
    "\n",
    "def clean_data(input_filename, output_filename):\n",
    "    df = pd.read_csv(input_filename)\n",
    "\n",
    "    df.dropna()\n",
    "\n",
    "    z_scores = np.abs(stats.zscore(df))\n",
    "    df = df[(z_scores < 3).all(axis=1)]\n",
    "\n",
    "    df = df.apply(lambda x: x.fillna('0') if pd.api.types.is_numeric_dtype(x) else x)\n",
    "\n",
    "    min_len = min(len(df['Before']),len(df['After']))\n",
    "    df = df.iloc[:min_len]\n",
    "\n",
    "    # Save the cleaned dataframe to a new CSV file\n",
    "    df.to_csv(output_filename, index=False)"
   ]
  },
  {
   "cell_type": "code",
   "execution_count": null,
   "id": "9d3c2162",
   "metadata": {},
   "outputs": [],
   "source": [
    "filenames = [('CBO.csv','Cleaned_Data/CBO_Cleaned.csv'),\n",
    "             ('DIT.csv','Cleaned_Data/DIT_Cleaned.csv'),\n",
    "             ('LCOM.csv','Cleaned_Data/LCOM_Cleaned.csv'),\n",
    "             ('LOC.csv','Cleaned_Data/LOC_Cleaned.csv'),\n",
    "             ('NOC.csv','Cleaned_Data/NOC_Cleaned.csv'),\n",
    "             ('RFC.csv','Cleaned_Data/RFC_Cleaned.csv'),\n",
    "             ('WMC.csv','Cleaned_Data/WMC_Cleaned.csv')\n",
    "            ]\n",
    "\n",
    "for input_filename, output_filename in filenames:\n",
    "    clean_data(input_filename, output_filename)"
   ]
  },
  {
   "cell_type": "code",
   "execution_count": null,
   "id": "4d0d388b",
   "metadata": {},
   "outputs": [],
   "source": []
  }
 ],
 "metadata": {
  "kernelspec": {
   "display_name": "Python 3 (ipykernel)",
   "language": "python",
   "name": "python3"
  },
  "language_info": {
   "codemirror_mode": {
    "name": "ipython",
    "version": 3
   },
   "file_extension": ".py",
   "mimetype": "text/x-python",
   "name": "python",
   "nbconvert_exporter": "python",
   "pygments_lexer": "ipython3",
   "version": "3.9.13"
  }
 },
 "nbformat": 4,
 "nbformat_minor": 5
}
