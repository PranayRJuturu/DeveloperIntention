{
 "cells": [
  {
   "cell_type": "code",
   "execution_count": 47,
   "id": "2065862a",
   "metadata": {},
   "outputs": [],
   "source": [
    "def outliers(df, ft):    \n",
    "    Q1 = df[ft].quantile(0.25)\n",
    "    Q3 = df[ft].quantile(0.75)\n",
    "    IQR = Q3 - Q1\n",
    "            \n",
    "    lower_bound = Q1 - 1.5 *IQR\n",
    "    upper_bound = Q3 + 1.5 *IQR\n",
    "            \n",
    "    ls = df.index[ (df[ft] < lower_bound) | (df[ft] > upper_bound)]\n",
    "    \n",
    "    return ls\n"
   ]
  },
  {
   "cell_type": "code",
   "execution_count": 48,
   "id": "013f24ab",
   "metadata": {},
   "outputs": [],
   "source": [
    "\n",
    "def remove(df,ls):\n",
    "    ls = sorted(set(ls))\n",
    "    df = df.drop(ls)\n",
    "    return df"
   ]
  },
  {
   "cell_type": "code",
   "execution_count": 49,
   "id": "56ca123c",
   "metadata": {},
   "outputs": [],
   "source": [
    "import pandas as pd\n",
    "import numpy as np\n",
    "from scipy import stats\n",
    "import os\n",
    "\n",
    "# List of folders containing CSV files to clean\n",
    "folders = ['Intention', 'Operation']\n",
    "\n",
    "# Loop over each folder and CSV file, and clean the data\n",
    "for folder in folders:\n",
    "    for file in os.listdir(folder):\n",
    "        if file.endswith('.csv'):\n",
    "            # Read the CSV file into a pandas dataframe\n",
    "            file_path = os.path.join(folder, file)\n",
    "            df = pd.read_csv(file_path)\n",
    "            df.shape\n",
    "            df.describe()\n",
    "\n",
    "            # Remove null values from both columns\n",
    "            df = df.dropna(subset=['Before', 'After'],how='all')\n",
    "            df['Before'] = df['Before'].fillna(value=0)\n",
    "            df['After'] = df['After'].fillna(value=0)\n",
    "\n",
    "            index_list = []\n",
    "            for column in ['Before', 'After']:\n",
    "                index_list.extend(outliers(df,column))\n",
    "            \n",
    "            df_cleaned = remove(df,index_list)\n",
    "            # Add '0' to cells that contain numbers in one column but not the other\n",
    "            df_cleaned['Before'] = pd.to_numeric(df_cleaned['Before'], errors='coerce')\n",
    "            df_cleaned['After'] = pd.to_numeric(df_cleaned['After'], errors='coerce')\n",
    "            df_cleaned['Before'] = df_cleaned['Before'].fillna(0)\n",
    "            df_cleaned['After'] = df_cleaned['After'].fillna(0)\n",
    "\n",
    "            # Ensure that both columns have equal data points\n",
    "            min_len = min(len(df_cleaned['Before']), len(df_cleaned['After']))\n",
    "            df_cleaned = df_cleaned.iloc[:min_len, :]\n",
    "\n",
    "            # Save the cleaned data to a new CSV file\n",
    "            cleaned_file_path = os.path.join(folder, 'cleaned_' + file)\n",
    "            df_cleaned.to_csv(cleaned_file_path, index=False)\n"
   ]
  },
  {
   "cell_type": "code",
   "execution_count": 50,
   "id": "992cbd29",
   "metadata": {},
   "outputs": [],
   "source": [
    "\n",
    "import matplotlib.pyplot as plt\n",
    "\n",
    "def create_boxplot(datafile):\n",
    "    # Read the CSV file into a pandas DataFrame\n",
    "    df = pd.read_csv(datafile)\n",
    "\n",
    "    # Select the two columns of data to use for the box plot\n",
    "    data1 = df['Before']\n",
    "    data2 = df['After']\n",
    "\n",
    "    # Create a list of the two columns of data\n",
    "    data = [data1, data2]\n",
    "\n",
    "    # Create the box plot using matplotlib\n",
    "    plt.boxplot(data)\n",
    "\n",
    "    # Set the x-axis labels\n",
    "    plt.xticks([1, 2], ['Before', 'After'])\n",
    "\n",
    "    # Show the plot\n",
    "    plt.show()\n"
   ]
  },
  {
   "cell_type": "code",
   "execution_count": 51,
   "id": "d32a1517",
   "metadata": {},
   "outputs": [
    {
     "data": {
      "image/png": "[encoded data removed]",
      "text/plain": [
       "<Figure size 640x480 with 1 Axes>"
      ]
     },
     "metadata": {},
     "output_type": "display_data"
    }
   ],
   "source": [
    "#Intention WMC\n",
    "create_boxplot('/Users/pranay/Stevens/Spring 23/SSW-567-A Software Testing/Assignments/Group/Repository/TestingProject/Intention/cleaned_WMC.csv')"
   ]
  },
  {
   "cell_type": "code",
   "execution_count": 52,
   "id": "410062d9",
   "metadata": {},
   "outputs": [
    {
     "data": {
      "image/png": "[encoded data removed]",
      "text/plain": [
       "<Figure size 640x480 with 1 Axes>"
      ]
     },
     "metadata": {},
     "output_type": "display_data"
    }
   ],
   "source": [
    "#Operation WMC\n",
    "create_boxplot('/Users/pranay/Stevens/Spring 23/SSW-567-A Software Testing/Assignments/Group/Repository/TestingProject/Operation/cleaned_WMC.csv')"
   ]
  },
  {
   "cell_type": "code",
   "execution_count": 53,
   "id": "4aa19cd6",
   "metadata": {},
   "outputs": [
    {
     "data": {
      "text/plain": [
       "(15113, 2)"
      ]
     },
     "execution_count": 53,
     "metadata": {},
     "output_type": "execute_result"
    }
   ],
   "source": [
    "df_cleaned.shape"
   ]
  },
  {
   "cell_type": "code",
   "execution_count": 54,
   "id": "fba9f8c8",
   "metadata": {},
   "outputs": [
    {
     "data": {
      "text/plain": [
       "(17727, 2)"
      ]
     },
     "execution_count": 54,
     "metadata": {},
     "output_type": "execute_result"
    }
   ],
   "source": [
    "df.shape"
   ]
  },
  {
   "cell_type": "code",
   "execution_count": null,
   "id": "8c9e0607",
   "metadata": {},
   "outputs": [],
   "source": []
  }
 ],
 "metadata": {
  "kernelspec": {
   "display_name": "Python 3 (ipykernel)",
   "language": "python",
   "name": "python3"
  },
  "language_info": {
   "codemirror_mode": {
    "name": "ipython",
    "version": 3
   },
   "file_extension": ".py",
   "mimetype": "text/x-python",
   "name": "python",
   "nbconvert_exporter": "python",
   "pygments_lexer": "ipython3",
   "version": "3.9.13"
  }
 },
 "nbformat": 4,
 "nbformat_minor": 5
}
