{
 "cells": [
  {
   "cell_type": "code",
   "execution_count": 1,
   "id": "2065862a",
   "metadata": {},
   "outputs": [],
   "source": [
    "def outliers(df, ft):    \n",
    "    Q1 = df[ft].quantile(0.25)\n",
    "    Q3 = df[ft].quantile(0.75)\n",
    "    IQR = Q3 - Q1\n",
    "            \n",
    "    lower_bound = Q1 - 1.5 *IQR\n",
    "    upper_bound = Q3 + 1.5 *IQR\n",
    "            \n",
    "    ls = df.index[ (df[ft] < lower_bound) | (df[ft] > upper_bound)]\n",
    "    \n",
    "    return ls\n"
   ]
  },
  {
   "cell_type": "code",
   "execution_count": 2,
   "id": "013f24ab",
   "metadata": {},
   "outputs": [],
   "source": [
    "\n",
    "def remove(df,ls):\n",
    "    ls = sorted(set(ls))\n",
    "    df = df.drop(ls)\n",
    "    return df"
   ]
  },
  {
   "cell_type": "code",
   "execution_count": 3,
   "id": "56ca123c",
   "metadata": {},
   "outputs": [],
   "source": [
    "import pandas as pd\n",
    "import numpy as np\n",
    "from scipy import stats\n",
    "import os\n",
    "\n",
    "# List of folders containing CSV files to clean\n",
    "folders = ['Intention', 'Operation']\n",
    "\n",
    "# Loop over each folder and CSV file, and clean the data\n",
    "for folder in folders:\n",
    "    for file in os.listdir(folder):\n",
    "        if file.endswith('.csv'):\n",
    "            # Read the CSV file into a pandas dataframe\n",
    "            file_path = os.path.join(folder, file)\n",
    "            df = pd.read_csv(file_path)\n",
    "            df.shape\n",
    "            df.describe()\n",
    "\n",
    "            # Remove null values from both columns\n",
    "            df = df.dropna(subset=['Before', 'After'],how='all')\n",
    "            df['Before'] = df['Before'].fillna(value=0)\n",
    "            df['After'] = df['After'].fillna(value=0)\n",
    "\n",
    "            index_list = []\n",
    "            for column in ['Before', 'After']:\n",
    "                index_list.extend(outliers(df,column))\n",
    "            \n",
    "            df_cleaned = remove(df,index_list)\n",
    "            # Add '0' to cells that contain numbers in one column but not the other\n",
    "            df_cleaned['Before'] = pd.to_numeric(df_cleaned['Before'], errors='coerce')\n",
    "            df_cleaned['After'] = pd.to_numeric(df_cleaned['After'], errors='coerce')\n",
    "            df_cleaned['Before'] = df_cleaned['Before'].fillna(0)\n",
    "            df_cleaned['After'] = df_cleaned['After'].fillna(0)\n",
    "\n",
    "            # Ensure that both columns have equal data points\n",
    "            min_len = min(len(df_cleaned['Before']), len(df_cleaned['After']))\n",
    "            df_cleaned = df_cleaned.iloc[:min_len, :]\n",
    "\n",
    "            # Save the cleaned data to a new CSV file\n",
    "            cleaned_file_path = os.path.join(folder, 'cleaned_' + file)\n",
    "            df_cleaned.to_csv(cleaned_file_path, index=False)\n"
   ]
  },
  {
   "cell_type": "code",
   "execution_count": 4,
   "id": "992cbd29",
   "metadata": {},
   "outputs": [],
   "source": [
    "\n",
    "import matplotlib.pyplot as plt\n",
    "\n",
    "def create_boxplot(datafile):\n",
    "    # Read the CSV file into a pandas DataFrame\n",
    "    df = pd.read_csv(datafile)\n",
    "\n",
    "    # Select the two columns of data to use for the box plot\n",
    "    data1 = df['Before']\n",
    "    data2 = df['After']\n",
    "\n",
    "    # Create a list of the two columns of data\n",
    "    data = [data1, data2]\n",
    "\n",
    "    # Create the box plot using matplotlib\n",
    "    plt.boxplot(data)\n",
    "\n",
    "    # Set the x-axis labels\n",
    "    plt.xticks([1, 2], ['Before', 'After'])\n",
    "\n",
    "    # Show the plot\n",
    "    plt.show()\n"
   ]
  },
  {
   "cell_type": "code",
   "execution_count": 5,
   "id": "d32a1517",
   "metadata": {},
   "outputs": [
    {
     "data": {
      "image/png": "[encoded data removed]",
      "text/plain": [
       "<Figure size 640x480 with 1 Axes>"
      ]
     },
     "metadata": {},
     "output_type": "display_data"
    }
   ],
   "source": [
    "#Intention WMC\n",
    "create_boxplot('/Users/pranay/Stevens/Spring 23/SSW-567-A Software Testing/Assignments/Group/Repository/TestingProject/Intention/cleaned_WMC.csv')"
   ]
  },
  {
   "cell_type": "code",
   "execution_count": 6,
   "id": "410062d9",
   "metadata": {},
   "outputs": [
    {
     "data": {
      "image/png": "[encoded data removed]",
      "text/plain": [
       "<Figure size 640x480 with 1 Axes>"
      ]
     },
     "metadata": {},
     "output_type": "display_data"
    }
   ],
   "source": [
    "#Operation WMC\n",
    "create_boxplot('/Users/pranay/Stevens/Spring 23/SSW-567-A Software Testing/Assignments/Group/Repository/TestingProject/Operation/cleaned_WMC.csv')"
   ]
  },
  {
   "cell_type": "code",
   "execution_count": 7,
   "id": "4aa19cd6",
   "metadata": {},
   "outputs": [
    {
     "name": "stdout",
     "output_type": "stream",
     "text": [
      "Intention\n",
      "  Metric  Mean Before  Mean After     P-value\n",
      "0    LOC    35.570416   37.738974  0.00000000\n",
      "1    CBO     7.093832    7.359034  0.00000001\n",
      "2    NOC     0.000000    0.000000         nan\n",
      "3    DIT     1.318812    1.365363  0.00000000\n",
      "4    RFC    16.041093   16.738879  0.00000000\n",
      "5   LCOM    21.473018   22.202628  0.00023301\n",
      "6    WMC     5.881483    6.304816  0.00000000\n",
      "\n",
      "Operation\n",
      "  Metric  Mean Before  Mean After     P-value\n",
      "0    LOC    32.123009   37.783237  0.00000000\n",
      "1    CBO     5.890963    6.589365  0.00000000\n",
      "2    NOC     0.000000    0.000000         nan\n",
      "3    DIT     1.433765    1.571486  0.00000000\n",
      "4    RFC     5.268047    5.801231  0.00000000\n",
      "5   LCOM    21.596548   23.803802  0.00000000\n",
      "6    WMC     5.615570    6.754396  0.00000000\n"
     ]
    }
   ],
   "source": [
    "#Mean Before , After and P-Value Calcualtion\n",
    "\n",
    "import pandas as pd\n",
    "from scipy.stats import ttest_rel\n",
    "\n",
    "# List of metric names\n",
    "metrics = ['LOC', 'CBO', 'NOC', 'DIT', 'RFC', 'LCOM', 'WMC']\n",
    "\n",
    "# Empty lists to store means and p-values for each metric\n",
    "means_before = []\n",
    "means_after = []\n",
    "p_values = []\n",
    "\n",
    "means_before_op = []\n",
    "means_after_op = []\n",
    "p_values_op = []\n",
    "\n",
    "# Loop over each metric\n",
    "for metric in metrics:\n",
    "    # Load CSV file for current metric\n",
    "    df = pd.read_csv(f'/Users/pranay/Stevens/Spring 23/SSW-567-A Software Testing/Assignments/Group/Repository/TestingProject/Intention/cleaned_{metric}.csv')\n",
    "    df_op = pd.read_csv(f'/Users/pranay/Stevens/Spring 23/SSW-567-A Software Testing/Assignments/Group/Repository/TestingProject/Operation/cleaned_{metric}.csv')\n",
    "\n",
    "    # Calculate mean for \"before\" and \"after\" columns\n",
    "    mean_before = df['Before'].mean()\n",
    "    mean_after = df['After'].mean()\n",
    "    \n",
    "    mean_before_op = df_op['Before'].mean()\n",
    "    mean_after_op = df_op['After'].mean()\n",
    "    \n",
    "    \n",
    "    # Calculate p-value using a two-sided t-test\n",
    "    _, p_value = ttest_rel(df['Before'], df['After'])\n",
    "    _, p_value_op = ttest_rel(df_op['Before'], df_op['After'])\n",
    "    \n",
    "    # Append means and p-value to their respective lists\n",
    "    means_before.append(mean_before)\n",
    "    means_after.append(mean_after)\n",
    "    p_values.append(p_value)\n",
    "    \n",
    "    means_before_op.append(mean_before_op)\n",
    "    means_after_op.append(mean_after_op)\n",
    "    p_values_op.append(p_value_op)\n",
    "    \n",
    "\n",
    "# Create a new dataframe with the results\n",
    "results_df = pd.DataFrame({'Metric': metrics, 'Mean Before': means_before, 'Mean After': means_after, 'P-value': p_values})\n",
    "\n",
    "results_df_op = pd.DataFrame({'Metric': metrics, 'Mean Before': means_before_op, 'Mean After': means_after_op, 'P-value': p_values_op})\n",
    "\n",
    "# Format p-values as floating-point numbers with 4 decimal places\n",
    "results_df['P-value'] = results_df['P-value'].apply(lambda x: f'{x:.8f}')\n",
    "results_df_op['P-value'] = results_df_op['P-value'].apply(lambda x: f'{x:.8f}')\n",
    "\n",
    "# Print the results dataframe\n",
    "print(\"Intention\")\n",
    "print(results_df)\n",
    "print(\"\\nOperation\")\n",
    "print(results_df_op)\n"
   ]
  },
  {
   "cell_type": "code",
   "execution_count": 8,
   "id": "fba9f8c8",
   "metadata": {},
   "outputs": [
    {
     "data": {
      "text/plain": [
       "(19415, 2)"
      ]
     },
     "execution_count": 8,
     "metadata": {},
     "output_type": "execute_result"
    }
   ],
   "source": [
    "df.shape"
   ]
  },
  {
   "cell_type": "code",
   "execution_count": null,
   "id": "8c9e0607",
   "metadata": {},
   "outputs": [],
   "source": []
  }
 ],
 "metadata": {
  "kernelspec": {
   "display_name": "Python 3",
   "language": "python",
   "name": "python3"
  },
  "language_info": {
   "codemirror_mode": {
    "name": "ipython",
    "version": 3
   },
   "file_extension": ".py",
   "mimetype": "text/x-python",
   "name": "python",
   "nbconvert_exporter": "python",
   "pygments_lexer": "ipython3",
   "version": "3.10.8"
  },
  "vscode": {
   "interpreter": {
    "hash": "aee8b7b246df8f9039afb4144a1f6fd8d2ca17a180786b69acc140d282b71a49"
   }
  }
 },
 "nbformat": 4,
 "nbformat_minor": 5
}
